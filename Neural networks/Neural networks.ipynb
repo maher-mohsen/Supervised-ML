{
 "cells": [
  {
   "attachments": {},
   "cell_type": "markdown",
   "id": "c7e8fc1d",
   "metadata": {},
   "source": [
    "# Assi #3 "
   ]
  },
  {
   "attachments": {},
   "cell_type": "markdown",
   "id": "fe120763",
   "metadata": {},
   "source": [
    "## Maher mohsen 20200415  S1\n",
    "## Bemwa malak  20200116  S1"
   ]
  },
  {
   "cell_type": "code",
   "execution_count": 1,
   "id": "70d16a01",
   "metadata": {},
   "outputs": [],
   "source": [
    "import numpy as np"
   ]
  },
  {
   "attachments": {},
   "cell_type": "markdown",
   "id": "47da5e07",
   "metadata": {},
   "source": [
    "## Data preprocessing"
   ]
  },
  {
   "cell_type": "code",
   "execution_count": 2,
   "id": "edf16436",
   "metadata": {},
   "outputs": [],
   "source": [
    "from sklearn.datasets import fetch_openml\n",
    "from sklearn.preprocessing import StandardScaler\n",
    "from sklearn.model_selection import train_test_split\n",
    "import pandas as pd\n",
    "from abc import ABC, abstractmethod\n",
    "import warnings\n",
    "warnings.filterwarnings(action=\"ignore\")"
   ]
  },
  {
   "attachments": {},
   "cell_type": "markdown",
   "id": "5c0d9a3c",
   "metadata": {},
   "source": [
    "### 1. Loading minst data set"
   ]
  },
  {
   "cell_type": "code",
   "execution_count": 3,
   "id": "9fa9adf4",
   "metadata": {},
   "outputs": [],
   "source": [
    "mnist = fetch_openml('mnist_784')"
   ]
  },
  {
   "cell_type": "code",
   "execution_count": 4,
   "id": "0720c35d",
   "metadata": {},
   "outputs": [],
   "source": [
    "X = mnist.data.astype(float)\n",
    "y = mnist.target.astype(int)"
   ]
  },
  {
   "attachments": {},
   "cell_type": "markdown",
   "id": "4d7c8cf4",
   "metadata": {},
   "source": [
    "### 2. Split the data"
   ]
  },
  {
   "cell_type": "code",
   "execution_count": 5,
   "id": "4fe09ad3",
   "metadata": {},
   "outputs": [],
   "source": [
    "X_train, X_test, y_train, y_test = train_test_split(X, y, test_size=0.2, random_state=42)"
   ]
  },
  {
   "attachments": {},
   "cell_type": "markdown",
   "id": "b01eb9e1",
   "metadata": {},
   "source": [
    "### 3. Standarization "
   ]
  },
  {
   "cell_type": "code",
   "execution_count": 6,
   "id": "d4bf8f8e",
   "metadata": {},
   "outputs": [],
   "source": [
    "scaler = StandardScaler()\n",
    "X_train = scaler.fit_transform(X_train)"
   ]
  },
  {
   "attachments": {},
   "cell_type": "markdown",
   "id": "f7841ad8",
   "metadata": {},
   "source": [
    "### 4. one hot encoding"
   ]
  },
  {
   "cell_type": "code",
   "execution_count": 7,
   "id": "d45a969d",
   "metadata": {},
   "outputs": [],
   "source": [
    "y_train_onehot = np.eye(len(np.unique(y)))[y_train.values.reshape(-1)]\n",
    "y_test_onehot  = np.eye(len(np.unique(y)))[y_test.values.reshape(-1)]\n",
    "scaler = StandardScaler()\n",
    "X_test = scaler.fit_transform(X_test)"
   ]
  },
  {
   "attachments": {},
   "cell_type": "markdown",
   "id": "4b680ca5",
   "metadata": {},
   "source": [
    "## 5. Nueral network implementation"
   ]
  },
  {
   "cell_type": "code",
   "execution_count": 35,
   "id": "049dc73c",
   "metadata": {},
   "outputs": [],
   "source": [
    "class NN:\n",
    "    def __init__(self, X, y, num_of_layers, size_of_layers):\n",
    "        \n",
    "        size_of_input = X.shape[1]\n",
    "\n",
    "        size_of_layers.insert(0, size_of_input)\n",
    "        self.size_of_layers = size_of_layers\n",
    "        \n",
    "        num_of_layers = len(size_of_layers) \n",
    "        self.num_of_layers = num_of_layers\n",
    "        #weights initialize\n",
    "        #weight matrix for every layer each vector represent one node\n",
    "\n",
    "        self.weights = [np.random.randn(size_of_layers[i], size_of_layers[i-1]) for i in range(1, num_of_layers)]\n",
    "        self.biases = [np.zeros((size_of_layers[i], 1)) for i in range(1, num_of_layers)]\n",
    "        \n",
    "    def sigmoid(self,z):\n",
    "        return 1 / (1+ np.exp(-z))\n",
    "    \n",
    "    def sigmoid_prime(self,a):\n",
    "        return a * (1 - a)\n",
    "    \n",
    "    def mse(self,y, y_pred):\n",
    "        return np.mean((y - y_pred) ** 2)\n",
    "    \n",
    "    def forward(self, X):\n",
    "        self.outputs = []\n",
    "        self.activations = [X]\n",
    "            \n",
    "        for i in range(self.num_of_layers - 1):\n",
    "            z = np.dot(self.weights[i], self.activations[i]) + self.biases[i] #get net input for each node in the layer\n",
    "            output = self.sigmoid(z)\n",
    "            self.outputs.append(output) \n",
    "            self.activations.append(output) #append the output in activations to feedforward next layer\n",
    "        return self.activations[-1]\n",
    "    \n",
    "    def backward(self, X, y, eta):\n",
    "        n = X.shape[0]\n",
    "        \n",
    "        #Calculate gradient for output layer (dL/da)\n",
    "        error = (self.activations[-1] - y) / n\n",
    "        delta = error * self.sigmoid_prime(self.outputs[-1])\n",
    "        \n",
    "        #Update weights in output layer\n",
    "        self.weights[-1] -= eta * np.dot(delta, self.activations[-2].T)\n",
    "        self.biases[-1]  -= eta * np.sum(delta, axis = 1,keepdims = True)\n",
    "        \n",
    "        #backprop till and update all layers' weights\n",
    "        for i in range(self.num_of_layers - 3, -1, -1):\n",
    "            error = np.dot(self.weights[i + 1].T, delta)\n",
    "            delta = error * self.sigmoid_prime(self.outputs[i])\n",
    "            \n",
    "            #update Weights \n",
    "            self.weights[i] -= eta * np.dot(delta, self.activations[i].T)\n",
    "            self.biases[i]  -= eta * np.sum(delta, axis = 1, keepdims = True)\n",
    "            \n",
    "    def train(self, X, y, epochs, eta):\n",
    "        for epoch in range(epochs):\n",
    "            output = self.forward(X)\n",
    "            self.backward(X, y, eta)\n",
    "            \n",
    "            if epoch % 100 == 0:\n",
    "                loss = self.mse(y, output)\n",
    "                print(f\"Epoch {epoch}: loss = {loss}\")\n",
    "                \n",
    "    def predict(self, X):\n",
    "        return self.forward(X)"
   ]
  },
  {
   "attachments": {},
   "cell_type": "markdown",
   "id": "a805d57d",
   "metadata": {},
   "source": [
    "### 6.Testing NN class"
   ]
  },
  {
   "cell_type": "code",
   "execution_count": 10,
   "id": "a2661686",
   "metadata": {},
   "outputs": [],
   "source": [
    "def softmax(z):\n",
    "    exp_z = np.exp(z)\n",
    "    return exp_z / np.sum(exp_z, axis=1, keepdims=True)"
   ]
  },
  {
   "cell_type": "code",
   "execution_count": 9,
   "id": "d14cfb31",
   "metadata": {},
   "outputs": [],
   "source": [
    "nn = NN(X_train, y_train_onehot, num_of_layers = 2, size_of_layers = [2, 10])"
   ]
  },
  {
   "cell_type": "code",
   "execution_count": 10,
   "id": "8798a64e",
   "metadata": {},
   "outputs": [
    {
     "name": "stdout",
     "output_type": "stream",
     "text": [
      "Epoch 0: loss = 0.37230836813331447\n",
      "Epoch 100: loss = 0.08576912594460147\n",
      "Epoch 200: loss = 0.0818102914053868\n",
      "Epoch 300: loss = 0.07936286093797296\n",
      "Epoch 400: loss = 0.07746701526622053\n",
      "Epoch 500: loss = 0.07583351455817713\n",
      "Epoch 600: loss = 0.07447031705231309\n",
      "Epoch 700: loss = 0.07345016472469755\n",
      "Epoch 800: loss = 0.07265121129555052\n",
      "Epoch 900: loss = 0.07202165491026256\n"
     ]
    }
   ],
   "source": [
    "nn.train(X_train.T, y_train_onehot.T, epochs=1000, eta=0.1)"
   ]
  },
  {
   "cell_type": "code",
   "execution_count": 11,
   "id": "01e20008",
   "metadata": {},
   "outputs": [
    {
     "name": "stdout",
     "output_type": "stream",
     "text": [
      "Accuracy: 38.707142857142856 %\n"
     ]
    }
   ],
   "source": [
    "# Make predictions on the test set\n",
    "predictions = nn.predict(X_test.T)\n",
    "predicted_labels = softmax(predictions)\n",
    "\n",
    "# Calculate accuracy\n",
    "accuracy = np.mean(predicted_labels == y_test)\n",
    "print(\"Accuracy:\", accuracy * 100, '%')"
   ]
  },
  {
   "attachments": {},
   "cell_type": "markdown",
   "id": "2d865109",
   "metadata": {},
   "source": [
    "## 7. Testing"
   ]
  },
  {
   "attachments": {},
   "cell_type": "markdown",
   "id": "d49a29f8",
   "metadata": {},
   "source": [
    "### Architecture #1 [2 layers 1 hidden and 1 output]"
   ]
  },
  {
   "attachments": {},
   "cell_type": "markdown",
   "id": "c2fc8317",
   "metadata": {},
   "source": [
    "![Image Title](archi1.png)"
   ]
  },
  {
   "attachments": {},
   "cell_type": "markdown",
   "id": "ab4b6176",
   "metadata": {},
   "source": [
    "#### Design the neural network"
   ]
  },
  {
   "cell_type": "code",
   "execution_count": 15,
   "id": "90865233",
   "metadata": {},
   "outputs": [],
   "source": [
    "archi_1 = NN(X_train, y_train,num_of_layers = 2, size_of_layers = [2, 10])"
   ]
  },
  {
   "attachments": {},
   "cell_type": "markdown",
   "id": "5d88f638",
   "metadata": {},
   "source": [
    "#### Training"
   ]
  },
  {
   "cell_type": "code",
   "execution_count": 16,
   "id": "8f25eefa",
   "metadata": {
    "scrolled": false
   },
   "outputs": [
    {
     "name": "stdout",
     "output_type": "stream",
     "text": [
      "Epoch 0: loss = 0.31005271580906196\n",
      "Epoch 100: loss = 0.08796086690231483\n",
      "Epoch 200: loss = 0.082776575032702\n",
      "Epoch 300: loss = 0.07753233724439461\n",
      "Epoch 400: loss = 0.07390045780519038\n",
      "Epoch 500: loss = 0.07208622071509892\n",
      "Epoch 600: loss = 0.07104580742979892\n",
      "Epoch 700: loss = 0.0703268214826149\n",
      "Epoch 800: loss = 0.06979386427217543\n",
      "Epoch 900: loss = 0.0693892574884638\n"
     ]
    }
   ],
   "source": [
    "archi_1.train(X_train.T, y_train_onehot.T, epochs=1000, eta=0.1)"
   ]
  },
  {
   "attachments": {},
   "cell_type": "markdown",
   "id": "e0f47819",
   "metadata": {},
   "source": [
    "#### Testing and accuracy"
   ]
  },
  {
   "cell_type": "code",
   "execution_count": 17,
   "id": "b2e3dca5",
   "metadata": {},
   "outputs": [
    {
     "name": "stdout",
     "output_type": "stream",
     "text": [
      "Accuracy: 38.75714285714286 %\n"
     ]
    }
   ],
   "source": [
    "# Make predictions on the test set\n",
    "predictions_archi1 = archi_1.predict(X_test.T)\n",
    "predicted_labels_archi_1 = np.argmax(predictions_archi1, axis=0)\n",
    "\n",
    "# Calculate accuracy\n",
    "accuracy_archi_1 = np.mean(predicted_labels_archi_1 == y_test)\n",
    "print(\"Accuracy:\", accuracy_archi_1 * 100, '%')"
   ]
  },
  {
   "attachments": {},
   "cell_type": "markdown",
   "id": "6a1282a3",
   "metadata": {},
   "source": [
    "### Architecture #2 [3 layers 2 hidden and 1 output , # of neurons in first layer < # of neurons in second layer]"
   ]
  },
  {
   "attachments": {},
   "cell_type": "markdown",
   "id": "091d63e4",
   "metadata": {},
   "source": [
    "![Image Title](archi2.png)"
   ]
  },
  {
   "attachments": {},
   "cell_type": "markdown",
   "id": "7d73fbcc",
   "metadata": {},
   "source": [
    "#### Design the neural network"
   ]
  },
  {
   "cell_type": "code",
   "execution_count": 20,
   "id": "6b746326",
   "metadata": {},
   "outputs": [],
   "source": [
    "archi_2 = NN(X_train, y_train, num_of_layers = 6, size_of_layers = [16, 20, 24, 16, 10])"
   ]
  },
  {
   "attachments": {},
   "cell_type": "markdown",
   "id": "bfec1ed9",
   "metadata": {},
   "source": [
    "\n",
    "#### Training"
   ]
  },
  {
   "cell_type": "code",
   "execution_count": 23,
   "id": "30a10430",
   "metadata": {},
   "outputs": [
    {
     "name": "stdout",
     "output_type": "stream",
     "text": [
      "Epoch 0: loss = 0.07969738712439782\n",
      "Epoch 100: loss = 0.06289644820094316\n",
      "Epoch 200: loss = 0.05035454522090553\n",
      "Epoch 300: loss = 0.039370927495596106\n",
      "Epoch 400: loss = 0.033150326016212144\n",
      "Epoch 500: loss = 0.029275843056786755\n",
      "Epoch 600: loss = 0.026696652365618523\n",
      "Epoch 700: loss = 0.024824868945244792\n",
      "Epoch 800: loss = 0.02338751032462437\n",
      "Epoch 900: loss = 0.02225116550667232\n",
      "Epoch 1000: loss = 0.02130226357421026\n",
      "Epoch 1100: loss = 0.020529227404638514\n",
      "Epoch 1200: loss = 0.019859544132210537\n",
      "Epoch 1300: loss = 0.019274457338047606\n",
      "Epoch 1400: loss = 0.018767617328164024\n",
      "Epoch 1500: loss = 0.01830843035756627\n",
      "Epoch 1600: loss = 0.017876743380677188\n",
      "Epoch 1700: loss = 0.01749976001808616\n",
      "Epoch 1800: loss = 0.01715759270693522\n",
      "Epoch 1900: loss = 0.016848976077197285\n",
      "Epoch 2000: loss = 0.016584048646400215\n",
      "Epoch 2100: loss = 0.01633308680521238\n",
      "Epoch 2200: loss = 0.0160998380894252\n",
      "Epoch 2300: loss = 0.015878055178682664\n",
      "Epoch 2400: loss = 0.015667524033127433\n",
      "Epoch 2500: loss = 0.01545666238931056\n",
      "Epoch 2600: loss = 0.015258149126671222\n",
      "Epoch 2700: loss = 0.015068868005604074\n",
      "Epoch 2800: loss = 0.014886525207265062\n",
      "Epoch 2900: loss = 0.014714843052680636\n",
      "Epoch 3000: loss = 0.014540043063493312\n",
      "Epoch 3100: loss = 0.014377708202959576\n",
      "Epoch 3200: loss = 0.014228369646193999\n",
      "Epoch 3300: loss = 0.014085575328949893\n",
      "Epoch 3400: loss = 0.013955576261553622\n",
      "Epoch 3500: loss = 0.013836113660690425\n",
      "Epoch 3600: loss = 0.013720156312239704\n",
      "Epoch 3700: loss = 0.01360751213099066\n",
      "Epoch 3800: loss = 0.013502077880026853\n",
      "Epoch 3900: loss = 0.013393079632510104\n",
      "Epoch 4000: loss = 0.013298151388982814\n",
      "Epoch 4100: loss = 0.013206492005131939\n",
      "Epoch 4200: loss = 0.013118312630986239\n",
      "Epoch 4300: loss = 0.013032938429896248\n",
      "Epoch 4400: loss = 0.012948600762862307\n",
      "Epoch 4500: loss = 0.012864513735507031\n",
      "Epoch 4600: loss = 0.012785814282060869\n",
      "Epoch 4700: loss = 0.012705776538856874\n",
      "Epoch 4800: loss = 0.012632246210937547\n",
      "Epoch 4900: loss = 0.012561456136854218\n",
      "Epoch 5000: loss = 0.012490502874594179\n",
      "Epoch 5100: loss = 0.012422866024748338\n",
      "Epoch 5200: loss = 0.01235657442542235\n",
      "Epoch 5300: loss = 0.012289188049930554\n",
      "Epoch 5400: loss = 0.012218644212998843\n",
      "Epoch 5500: loss = 0.012149804061804449\n",
      "Epoch 5600: loss = 0.012081389589654242\n",
      "Epoch 5700: loss = 0.012020453052433919\n",
      "Epoch 5800: loss = 0.01196072310544524\n",
      "Epoch 5900: loss = 0.011904837968997316\n",
      "Epoch 6000: loss = 0.011850397724074735\n",
      "Epoch 6100: loss = 0.011796021369126308\n",
      "Epoch 6200: loss = 0.01174470780539525\n",
      "Epoch 6300: loss = 0.011696596272197643\n",
      "Epoch 6400: loss = 0.011648242843971432\n",
      "Epoch 6500: loss = 0.01160147388479259\n",
      "Epoch 6600: loss = 0.011556286377085574\n",
      "Epoch 6700: loss = 0.01151222860695975\n",
      "Epoch 6800: loss = 0.011468465827733016\n",
      "Epoch 6900: loss = 0.011424086773820263\n",
      "Epoch 7000: loss = 0.011380128342477305\n",
      "Epoch 7100: loss = 0.011333171007428344\n",
      "Epoch 7200: loss = 0.011290020971488249\n",
      "Epoch 7300: loss = 0.011246044586562119\n",
      "Epoch 7400: loss = 0.011203593654029754\n",
      "Epoch 7500: loss = 0.01116306127058116\n",
      "Epoch 7600: loss = 0.01112530817020264\n",
      "Epoch 7700: loss = 0.011088046365212939\n",
      "Epoch 7800: loss = 0.011052788445717292\n",
      "Epoch 7900: loss = 0.011018295611147104\n",
      "Epoch 8000: loss = 0.010984387655313677\n",
      "Epoch 8100: loss = 0.010950830472556839\n",
      "Epoch 8200: loss = 0.010917675688111727\n",
      "Epoch 8300: loss = 0.010884047260649551\n",
      "Epoch 8400: loss = 0.010851973683406672\n",
      "Epoch 8500: loss = 0.01081929347433686\n",
      "Epoch 8600: loss = 0.010786335638727263\n",
      "Epoch 8700: loss = 0.010750069490706156\n",
      "Epoch 8800: loss = 0.010716040704870318\n",
      "Epoch 8900: loss = 0.010682736559162642\n",
      "Epoch 9000: loss = 0.010652577779486099\n",
      "Epoch 9100: loss = 0.010619563574986715\n",
      "Epoch 9200: loss = 0.0105913604043136\n",
      "Epoch 9300: loss = 0.01056228232296811\n",
      "Epoch 9400: loss = 0.010534093775937612\n",
      "Epoch 9500: loss = 0.010506309212198734\n",
      "Epoch 9600: loss = 0.010478983110121605\n",
      "Epoch 9700: loss = 0.010452988285741144\n",
      "Epoch 9800: loss = 0.010427504462696685\n",
      "Epoch 9900: loss = 0.010398205026655772\n"
     ]
    }
   ],
   "source": [
    "archi_2.train(X_train.T, y_train_onehot.T, epochs=10000, eta=0.1)"
   ]
  },
  {
   "attachments": {},
   "cell_type": "markdown",
   "id": "cc2c0d0c",
   "metadata": {},
   "source": [
    "#### Testing and accuracy"
   ]
  },
  {
   "cell_type": "code",
   "execution_count": 30,
   "id": "11818b1a",
   "metadata": {},
   "outputs": [],
   "source": [
    "import tensorflow as tf"
   ]
  },
  {
   "cell_type": "code",
   "execution_count": 55,
   "id": "7d3b9434",
   "metadata": {},
   "outputs": [
    {
     "name": "stdout",
     "output_type": "stream",
     "text": [
      "[5 4 8 ... 1 0 0]\n",
      "Accuracy: 93.50892857142857 %\n"
     ]
    }
   ],
   "source": [
    "# Make predictions on the test set\n",
    "predictions_archi_2 = archi_2.predict(X_train.T)\n",
    "softmax_probs = tf.nn.softmax(predictions_archi_2.T)\n",
    "\n",
    "# Get predicted classes\n",
    "predicted_classes = np.argmax(softmax_probs, axis=1)\n",
    "\n",
    "# # Calculate accuracy\n",
    "print(predicted_classes)\n",
    "accuracy_archi_2 = np.mean(predicted_classes == y_train)\n",
    "print(\"Accuracy:\", accuracy_archi_2 * 100, '%')"
   ]
  },
  {
   "cell_type": "code",
   "execution_count": 48,
   "id": "cdbee937",
   "metadata": {},
   "outputs": [
    {
     "name": "stdout",
     "output_type": "stream",
     "text": [
      "Accuracy: 87.9857142857143 %\n"
     ]
    }
   ],
   "source": []
  },
  {
   "attachments": {},
   "cell_type": "markdown",
   "id": "0ba670c0",
   "metadata": {},
   "source": [
    "### Architecture #2 [3 layers 2 hidden and 1 output , # of neurons in first layer > # of neurons in second layer]"
   ]
  },
  {
   "attachments": {},
   "cell_type": "markdown",
   "id": "f484b5f6",
   "metadata": {},
   "source": [
    "![Image Title](archi3.png)"
   ]
  },
  {
   "attachments": {},
   "cell_type": "markdown",
   "id": "654859f9",
   "metadata": {},
   "source": [
    "#### Design the neural network"
   ]
  },
  {
   "cell_type": "code",
   "execution_count": 9,
   "id": "bc71171e",
   "metadata": {},
   "outputs": [],
   "source": [
    "archi_3 = NN(X_train, y_train, num_of_layers = 3, size_of_layers = [3, 2, 10])"
   ]
  },
  {
   "attachments": {},
   "cell_type": "markdown",
   "id": "f621a6a0",
   "metadata": {},
   "source": [
    "#### Training"
   ]
  },
  {
   "cell_type": "code",
   "execution_count": 10,
   "id": "736512f3",
   "metadata": {},
   "outputs": [
    {
     "name": "stdout",
     "output_type": "stream",
     "text": [
      "Epoch 0: loss = 0.272844156759178\n",
      "Epoch 100: loss = 0.08785938343905943\n",
      "Epoch 200: loss = 0.08493492792778222\n",
      "Epoch 300: loss = 0.08150011092464554\n",
      "Epoch 400: loss = 0.0783043072606244\n",
      "Epoch 500: loss = 0.07599735130537534\n",
      "Epoch 600: loss = 0.07397083635549492\n",
      "Epoch 700: loss = 0.07208439173023358\n",
      "Epoch 800: loss = 0.07076196643169586\n",
      "Epoch 900: loss = 0.06971070500519923\n"
     ]
    }
   ],
   "source": [
    "archi_3.train(X_train.T, y_train_onehot.T, epochs=1000, eta=0.1)"
   ]
  },
  {
   "attachments": {},
   "cell_type": "markdown",
   "id": "2a8f24cc",
   "metadata": {},
   "source": [
    "#### Testing and accuracy"
   ]
  },
  {
   "cell_type": "code",
   "execution_count": 13,
   "id": "4194d785",
   "metadata": {},
   "outputs": [
    {
     "name": "stdout",
     "output_type": "stream",
     "text": [
      "Accuracy: 41.75 %\n"
     ]
    }
   ],
   "source": [
    "# Make predictions on the test set\n",
    "predictions_archi_3 = archi_3.predict(X_test.T)\n",
    "predicted_labels_archi_3 = np.argmax(predictions_archi_3, axis=0)\n",
    "\n",
    "# Calculate accuracy\n",
    "accuracy_archi_3 = np.mean(predicted_labels_archi_3 == y_test)\n",
    "print(\"Accuracy:\", accuracy_archi_3 * 100, '%')"
   ]
  },
  {
   "cell_type": "code",
   "execution_count": null,
   "id": "bac8f824",
   "metadata": {},
   "outputs": [],
   "source": []
  }
 ],
 "metadata": {
  "kernelspec": {
   "display_name": "Python 3 (ipykernel)",
   "language": "python",
   "name": "python3"
  },
  "language_info": {
   "codemirror_mode": {
    "name": "ipython",
    "version": 3
   },
   "file_extension": ".py",
   "mimetype": "text/x-python",
   "name": "python",
   "nbconvert_exporter": "python",
   "pygments_lexer": "ipython3",
   "version": "3.9.0"
  }
 },
 "nbformat": 4,
 "nbformat_minor": 5
}
