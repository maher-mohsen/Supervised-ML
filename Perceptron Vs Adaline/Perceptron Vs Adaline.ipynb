{
 "cells": [
  {
   "cell_type": "markdown",
   "id": "6a19aca8",
   "metadata": {},
   "source": [
    "# Perceptron Vs Adaline"
   ]
  },
  {
   "cell_type": "code",
   "execution_count": 2,
   "id": "fdd3d392",
   "metadata": {},
   "outputs": [],
   "source": [
    "import numpy as np\n",
    "import seaborn as sns\n",
    "import pandas as pd\n",
    "from sklearn.utils import shuffle\n",
    "from sklearn.model_selection import train_test_split"
   ]
  },
  {
   "cell_type": "code",
   "execution_count": 18,
   "id": "c040e3c1",
   "metadata": {},
   "outputs": [
    {
     "data": {
      "text/html": [
       "<div>\n",
       "<style scoped>\n",
       "    .dataframe tbody tr th:only-of-type {\n",
       "        vertical-align: middle;\n",
       "    }\n",
       "\n",
       "    .dataframe tbody tr th {\n",
       "        vertical-align: top;\n",
       "    }\n",
       "\n",
       "    .dataframe thead th {\n",
       "        text-align: right;\n",
       "    }\n",
       "</style>\n",
       "<table border=\"1\" class=\"dataframe\">\n",
       "  <thead>\n",
       "    <tr style=\"text-align: right;\">\n",
       "      <th></th>\n",
       "      <th>Variance</th>\n",
       "      <th>Skewness</th>\n",
       "      <th>Kurtosis</th>\n",
       "      <th>Entropy</th>\n",
       "      <th>Class</th>\n",
       "    </tr>\n",
       "  </thead>\n",
       "  <tbody>\n",
       "    <tr>\n",
       "      <th>0</th>\n",
       "      <td>3.62160</td>\n",
       "      <td>8.6661</td>\n",
       "      <td>-2.8073</td>\n",
       "      <td>-0.44699</td>\n",
       "      <td>0</td>\n",
       "    </tr>\n",
       "    <tr>\n",
       "      <th>1</th>\n",
       "      <td>4.54590</td>\n",
       "      <td>8.1674</td>\n",
       "      <td>-2.4586</td>\n",
       "      <td>-1.46210</td>\n",
       "      <td>0</td>\n",
       "    </tr>\n",
       "    <tr>\n",
       "      <th>2</th>\n",
       "      <td>3.86600</td>\n",
       "      <td>-2.6383</td>\n",
       "      <td>1.9242</td>\n",
       "      <td>0.10645</td>\n",
       "      <td>0</td>\n",
       "    </tr>\n",
       "    <tr>\n",
       "      <th>3</th>\n",
       "      <td>3.45660</td>\n",
       "      <td>9.5228</td>\n",
       "      <td>-4.0112</td>\n",
       "      <td>-3.59440</td>\n",
       "      <td>0</td>\n",
       "    </tr>\n",
       "    <tr>\n",
       "      <th>4</th>\n",
       "      <td>0.32924</td>\n",
       "      <td>-4.4552</td>\n",
       "      <td>4.5718</td>\n",
       "      <td>-0.98880</td>\n",
       "      <td>0</td>\n",
       "    </tr>\n",
       "  </tbody>\n",
       "</table>\n",
       "</div>"
      ],
      "text/plain": [
       "   Variance  Skewness  Kurtosis  Entropy  Class\n",
       "0   3.62160    8.6661   -2.8073 -0.44699      0\n",
       "1   4.54590    8.1674   -2.4586 -1.46210      0\n",
       "2   3.86600   -2.6383    1.9242  0.10645      0\n",
       "3   3.45660    9.5228   -4.0112 -3.59440      0\n",
       "4   0.32924   -4.4552    4.5718 -0.98880      0"
      ]
     },
     "execution_count": 18,
     "metadata": {},
     "output_type": "execute_result"
    }
   ],
   "source": [
    "df = pd.read_csv('data_banknote_authentication.csv')\n",
    "df.head()"
   ]
  },
  {
   "cell_type": "code",
   "execution_count": 19,
   "id": "6abf1fc5",
   "metadata": {},
   "outputs": [],
   "source": [
    "df.drop(columns = ['Kurtosis', 'Entropy'], inplace = True)"
   ]
  },
  {
   "cell_type": "code",
   "execution_count": 44,
   "id": "2411fee5",
   "metadata": {},
   "outputs": [
    {
     "name": "stdout",
     "output_type": "stream",
     "text": [
      "<class 'pandas.core.frame.DataFrame'>\n",
      "Int64Index: 200 entries, 249 to 1219\n",
      "Data columns (total 3 columns):\n",
      " #   Column    Non-Null Count  Dtype  \n",
      "---  ------    --------------  -----  \n",
      " 0   Variance  200 non-null    float64\n",
      " 1   Skewness  200 non-null    float64\n",
      " 2   Class     200 non-null    int64  \n",
      "dtypes: float64(2), int64(1)\n",
      "memory usage: 6.2 KB\n"
     ]
    }
   ],
   "source": [
    "df = shuffle(df)\n",
    "df = df.head(200)\n",
    "df.info()"
   ]
  },
  {
   "cell_type": "code",
   "execution_count": 66,
   "id": "c66652d8",
   "metadata": {},
   "outputs": [],
   "source": [
    "X = df.drop(columns = ['Class'])\n",
    "y = df['Class']"
   ]
  },
  {
   "cell_type": "markdown",
   "id": "24a24251",
   "metadata": {},
   "source": [
    "## Perceptron\n"
   ]
  },
  {
   "cell_type": "code",
   "execution_count": 137,
   "id": "6ec49303",
   "metadata": {},
   "outputs": [],
   "source": [
    "class Perceptron:\n",
    "    def __init__(self, eta=0.01, epochs=100):\n",
    "        self.w = None\n",
    "        self.b = None\n",
    "        self.eta = 0.01\n",
    "        self.epochs = 100\n",
    "\n",
    "    def get_net_input(self, X, y, w, b):\n",
    "        return (np.dot(w.T, X)) + b\n",
    "    \n",
    "    def update_weight(self, w, eta, z, y, X):\n",
    "        return w - (eta * (z - y))*X\n",
    "    \n",
    "    def update_bias(self, b, eta, z, y):\n",
    "        return b - (eta * (z - y))\n",
    "    \n",
    "    def unit_step(self, z):\n",
    "        return 1 if z > 0.5 else 0\n",
    "    \n",
    "    def fit(self, X, y, eta, epochs):\n",
    "        m = len(X)\n",
    "        self.w = np.random.rand(X.shape[1])\n",
    "        self.b = np.random.rand(1)\n",
    "        \n",
    "        for epoch in range(epochs):\n",
    "            for iteration in range(m-1):\n",
    "                #we transpose to work in each sample indv\n",
    "                x = X[iteration].T\n",
    "                y_ = y[iteration]\n",
    "                \n",
    "                \n",
    "                # dot product of weights and X\n",
    "                z = self.get_net_input(x,y_,self.w,self.b)\n",
    "                \n",
    "                #Classify our sample with modified thershold\n",
    "                z = self.unit_step(z)\n",
    "                \n",
    "                #update parameters\n",
    "                w = self.update_weight(self.w, eta, z, y_, x)\n",
    "                b = self.update_bias(self.b, eta, z, y_)\n",
    "                \n",
    "                #error it's about all misclassified points\n",
    "                error = abs(z - y_)\n",
    "    \n",
    "    def predict(self, X):\n",
    "        return (np.dot(self.w.T, X)) + self.b\n",
    "    \n",
    "    def get_weights(self):\n",
    "        return [self.w, self.b]\n",
    "    "
   ]
  },
  {
   "cell_type": "code",
   "execution_count": 138,
   "id": "c335ff36",
   "metadata": {},
   "outputs": [],
   "source": [
    "clf = Perceptron()"
   ]
  },
  {
   "cell_type": "code",
   "execution_count": 139,
   "id": "d722aff0",
   "metadata": {},
   "outputs": [],
   "source": [
    "clf.fit(X,y, 0.01, 100)"
   ]
  },
  {
   "cell_type": "code",
   "execution_count": 140,
   "id": "7f080c56",
   "metadata": {},
   "outputs": [
    {
     "name": "stdout",
     "output_type": "stream",
     "text": [
      "[array([0.33199594, 0.92702278]), array([0.12837804])]\n"
     ]
    }
   ],
   "source": [
    "print(clf.get_weights())"
   ]
  },
  {
   "cell_type": "markdown",
   "id": "d017847f",
   "metadata": {},
   "source": [
    "## Adaline (Adaptive linear nueron)"
   ]
  },
  {
   "cell_type": "code",
   "execution_count": 215,
   "id": "a615e1b4",
   "metadata": {},
   "outputs": [],
   "source": [
    "class Adaline:\n",
    "    def __init__(self, eta=0.01, epochs=100):\n",
    "        self.w = None\n",
    "        self.b = None\n",
    "        self.eta = 0.01\n",
    "        self.epochs = 100\n",
    "        \n",
    "    def loss(self,y_hat,y):\n",
    "        return (y_hat - y)**2 \n",
    "    \n",
    "    def unit_step(self, z):\n",
    "        for i in range(len(z)):\n",
    "            if z[i] >0.5:\n",
    "                z[i] = 1\n",
    "            else:\n",
    "                z[i]=0\n",
    "        print(z)\n",
    "        return z\n",
    "    \n",
    "    def cost(self,y_hat,y):\n",
    "        total = 0.0 \n",
    "        m = len(y)\n",
    "        for (yhat,yi) in zip(y_hat,y) :\n",
    "            actual = yi\n",
    "            total += self.loss(yhat,actual)\n",
    "        total *= (1/(2*m))\n",
    "        return total\n",
    "    \n",
    "    def get_net_input(self, X, y):\n",
    "        return (np.dot(X, self.w)) + self.b\n",
    "    \n",
    "    def update_weight(self, y_pred, y, X):\n",
    "        return self.w - ((self.eta * np.dot((y_pred - y),X)) / len(X))\n",
    "    \n",
    "    def update_bias(self, y_pred, y):\n",
    "        return self.b - (self.eta * np.mean((y_pred - y)))\n",
    "    \n",
    "    def activation(self, z):\n",
    "        return z\n",
    "    \n",
    "    def fit(self, X, y, eta=0.01, epochs=1000):\n",
    "        m = len(X)\n",
    "        self.w = np.random.rand(X.shape[1])\n",
    "        self.b = np.random.rand(1)\n",
    "        \n",
    "        for epoch in range(epochs):\n",
    "            #Get net input\n",
    "            z = self.get_net_input(X, y)\n",
    "            \n",
    "            #apply activation function\n",
    "            z = self.activation(z)\n",
    "            \n",
    "            #Calc error\n",
    "            y_pred = z.copy()\n",
    "            error = self.cost(y_pred, y)\n",
    "            \n",
    "            #Update Weight and bias\n",
    "            self.w = self.update_weight(y_pred, y, X)\n",
    "            self.b = self.update_bias(y_pred, y)\n",
    "            \n",
    "            if error == 0:\n",
    "                break\n",
    "                \n",
    "    def predict(self, X):\n",
    "        return self.unit_step((np.dot(self.w, X.T)) + self.b)\n",
    "    \n",
    "    def get_weights(self):\n",
    "        return [self.w, self.b]\n",
    "    "
   ]
  },
  {
   "cell_type": "markdown",
   "id": "b467234c",
   "metadata": {},
   "source": [
    "## testing"
   ]
  },
  {
   "cell_type": "code",
   "execution_count": 82,
   "id": "ae11a03d",
   "metadata": {},
   "outputs": [
    {
     "data": {
      "text/html": [
       "<div>\n",
       "<style scoped>\n",
       "    .dataframe tbody tr th:only-of-type {\n",
       "        vertical-align: middle;\n",
       "    }\n",
       "\n",
       "    .dataframe tbody tr th {\n",
       "        vertical-align: top;\n",
       "    }\n",
       "\n",
       "    .dataframe thead th {\n",
       "        text-align: right;\n",
       "    }\n",
       "</style>\n",
       "<table border=\"1\" class=\"dataframe\">\n",
       "  <thead>\n",
       "    <tr style=\"text-align: right;\">\n",
       "      <th></th>\n",
       "      <th>Variance</th>\n",
       "      <th>Skewness</th>\n",
       "      <th>Kurtosis</th>\n",
       "      <th>Entropy</th>\n",
       "      <th>Class</th>\n",
       "    </tr>\n",
       "  </thead>\n",
       "  <tbody>\n",
       "    <tr>\n",
       "      <th>0</th>\n",
       "      <td>3.62160</td>\n",
       "      <td>8.6661</td>\n",
       "      <td>-2.8073</td>\n",
       "      <td>-0.44699</td>\n",
       "      <td>0</td>\n",
       "    </tr>\n",
       "    <tr>\n",
       "      <th>1</th>\n",
       "      <td>4.54590</td>\n",
       "      <td>8.1674</td>\n",
       "      <td>-2.4586</td>\n",
       "      <td>-1.46210</td>\n",
       "      <td>0</td>\n",
       "    </tr>\n",
       "    <tr>\n",
       "      <th>2</th>\n",
       "      <td>3.86600</td>\n",
       "      <td>-2.6383</td>\n",
       "      <td>1.9242</td>\n",
       "      <td>0.10645</td>\n",
       "      <td>0</td>\n",
       "    </tr>\n",
       "    <tr>\n",
       "      <th>3</th>\n",
       "      <td>3.45660</td>\n",
       "      <td>9.5228</td>\n",
       "      <td>-4.0112</td>\n",
       "      <td>-3.59440</td>\n",
       "      <td>0</td>\n",
       "    </tr>\n",
       "    <tr>\n",
       "      <th>4</th>\n",
       "      <td>0.32924</td>\n",
       "      <td>-4.4552</td>\n",
       "      <td>4.5718</td>\n",
       "      <td>-0.98880</td>\n",
       "      <td>0</td>\n",
       "    </tr>\n",
       "  </tbody>\n",
       "</table>\n",
       "</div>"
      ],
      "text/plain": [
       "   Variance  Skewness  Kurtosis  Entropy  Class\n",
       "0   3.62160    8.6661   -2.8073 -0.44699      0\n",
       "1   4.54590    8.1674   -2.4586 -1.46210      0\n",
       "2   3.86600   -2.6383    1.9242  0.10645      0\n",
       "3   3.45660    9.5228   -4.0112 -3.59440      0\n",
       "4   0.32924   -4.4552    4.5718 -0.98880      0"
      ]
     },
     "execution_count": 82,
     "metadata": {},
     "output_type": "execute_result"
    }
   ],
   "source": [
    "df = pd.read_csv('data_banknote_authentication.csv')\n",
    "df.head()"
   ]
  },
  {
   "cell_type": "code",
   "execution_count": 83,
   "id": "45121069",
   "metadata": {},
   "outputs": [],
   "source": [
    "df.drop(columns = ['Kurtosis', 'Entropy'], inplace = True)"
   ]
  },
  {
   "cell_type": "code",
   "execution_count": 84,
   "id": "0ee9df48",
   "metadata": {},
   "outputs": [
    {
     "name": "stdout",
     "output_type": "stream",
     "text": [
      "<class 'pandas.core.frame.DataFrame'>\n",
      "Int64Index: 1372 entries, 268 to 1348\n",
      "Data columns (total 3 columns):\n",
      " #   Column    Non-Null Count  Dtype  \n",
      "---  ------    --------------  -----  \n",
      " 0   Variance  1372 non-null   float64\n",
      " 1   Skewness  1372 non-null   float64\n",
      " 2   Class     1372 non-null   int64  \n",
      "dtypes: float64(2), int64(1)\n",
      "memory usage: 42.9 KB\n"
     ]
    }
   ],
   "source": [
    "df = shuffle(df)\n",
    "df.info()"
   ]
  },
  {
   "cell_type": "code",
   "execution_count": 85,
   "id": "972b53a7",
   "metadata": {},
   "outputs": [],
   "source": [
    "X = df.drop(columns = ['Class'])\n",
    "y = df['Class']"
   ]
  },
  {
   "cell_type": "code",
   "execution_count": 86,
   "id": "edeaf303",
   "metadata": {},
   "outputs": [],
   "source": [
    "X_train, X_test, y_train, y_test = train_test_split( X, y, test_size=0.33, random_state=42)"
   ]
  },
  {
   "cell_type": "code",
   "execution_count": 87,
   "id": "6ce7e7ce",
   "metadata": {},
   "outputs": [],
   "source": [
    "X_train, X_test, y_train, y_test = X_train.to_numpy(), X_test.to_numpy(), y_train.to_numpy(), y_test.to_numpy()"
   ]
  },
  {
   "cell_type": "code",
   "execution_count": 216,
   "id": "fb2df8c7",
   "metadata": {},
   "outputs": [],
   "source": [
    "clf = Adaline(0.0008, 10000)"
   ]
  },
  {
   "cell_type": "code",
   "execution_count": 221,
   "id": "2a003938",
   "metadata": {},
   "outputs": [],
   "source": [
    "clf.fit(X_train, y_train)"
   ]
  },
  {
   "cell_type": "code",
   "execution_count": 222,
   "id": "14880d0b",
   "metadata": {},
   "outputs": [
    {
     "name": "stdout",
     "output_type": "stream",
     "text": [
      "[0. 0. 1. 0. 1. 1. 0. 1. 0. 1. 0. 0. 1. 0. 0. 0. 0. 0. 1. 1. 1. 0. 1. 1.\n",
      " 0. 0. 1. 0. 1. 0. 1. 1. 0. 1. 1. 1. 0. 1. 1. 1. 0. 0. 0. 0. 0. 0. 0. 1.\n",
      " 1. 0. 0. 0. 0. 1. 0. 0. 0. 0. 0. 0. 0. 1. 1. 0. 1. 1. 1. 1. 1. 0. 0. 1.\n",
      " 0. 0. 1. 0. 0. 1. 0. 1. 1. 0. 0. 1. 0. 1. 0. 0. 1. 0. 1. 0. 1. 1. 1. 1.\n",
      " 0. 1. 1. 1. 0. 0. 0. 1. 1. 1. 1. 0. 1. 1. 0. 1. 0. 1. 0. 0. 1. 1. 0. 1.\n",
      " 0. 0. 1. 1. 1. 0. 1. 1. 0. 1. 0. 1. 0. 0. 1. 0. 0. 0. 0. 0. 0. 1. 1. 1.\n",
      " 1. 0. 1. 0. 0. 1. 1. 0. 0. 0. 1. 1. 0. 0. 1. 0. 1. 1. 1. 0. 1. 1. 1. 1.\n",
      " 0. 1. 0. 1. 1. 0. 1. 0. 1. 1. 0. 0. 1. 1. 0. 0. 0. 0. 1. 1. 0. 0. 0. 0.\n",
      " 1. 1. 0. 0. 1. 1. 1. 0. 0. 0. 1. 0. 1. 0. 1. 1. 1. 0. 1. 0. 0. 1. 1. 0.\n",
      " 1. 1. 1. 1. 1. 0. 0. 0. 0. 1. 0. 1. 1. 0. 1. 0. 0. 1. 0. 1. 0. 0. 1. 1.\n",
      " 0. 1. 0. 0. 1. 1. 0. 1. 0. 1. 1. 1. 0. 1. 1. 0. 0. 0. 0. 0. 0. 1. 1. 1.\n",
      " 0. 1. 1. 1. 1. 0. 0. 0. 0. 0. 0. 0. 1. 1. 1. 1. 0. 0. 0. 1. 0. 1. 0. 1.\n",
      " 0. 0. 0. 0. 0. 1. 1. 0. 1. 1. 1. 0. 0. 0. 1. 1. 1. 0. 0. 1. 0. 1. 0. 0.\n",
      " 0. 0. 0. 0. 0. 1. 1. 0. 0. 0. 0. 0. 1. 1. 0. 0. 0. 0. 0. 0. 0. 1. 1. 0.\n",
      " 0. 1. 0. 0. 0. 0. 1. 0. 0. 1. 1. 0. 1. 0. 0. 1. 0. 1. 0. 0. 0. 0. 0. 1.\n",
      " 1. 1. 1. 0. 0. 0. 0. 1. 0. 0. 1. 0. 0. 1. 1. 1. 0. 0. 1. 0. 1. 0. 1. 0.\n",
      " 0. 0. 0. 0. 1. 0. 1. 0. 0. 0. 1. 0. 0. 0. 1. 1. 0. 0. 0. 0. 0. 1. 0. 0.\n",
      " 1. 1. 0. 0. 1. 0. 0. 0. 0. 1. 0. 0. 0. 0. 1. 0. 1. 1. 0. 0. 0. 1. 1. 0.\n",
      " 0. 1. 1. 0. 0. 0. 0. 0. 1. 0. 0. 0. 1. 0. 1. 0. 1. 0. 1. 1. 0.]\n"
     ]
    }
   ],
   "source": [
    "pred = clf.predict(X_test)"
   ]
  },
  {
   "cell_type": "code",
   "execution_count": 223,
   "id": "6f82d740",
   "metadata": {},
   "outputs": [],
   "source": [
    "def accu(X, y):\n",
    "    correct = 0;\n",
    "    for i in range(len(X)):\n",
    "        if X[i] == y[i]:\n",
    "            correct+=1\n",
    "    return (correct / len(X))*100"
   ]
  },
  {
   "cell_type": "code",
   "execution_count": 224,
   "id": "4b56acb6",
   "metadata": {},
   "outputs": [
    {
     "name": "stdout",
     "output_type": "stream",
     "text": [
      "88.74172185430463\n"
     ]
    }
   ],
   "source": [
    "print(accu(pred, y_test))"
   ]
  },
  {
   "cell_type": "code",
   "execution_count": null,
   "id": "0f5bf0ff",
   "metadata": {},
   "outputs": [],
   "source": []
  }
 ],
 "metadata": {
  "kernelspec": {
   "display_name": "Python 3 (ipykernel)",
   "language": "python",
   "name": "python3"
  },
  "language_info": {
   "codemirror_mode": {
    "name": "ipython",
    "version": 3
   },
   "file_extension": ".py",
   "mimetype": "text/x-python",
   "name": "python",
   "nbconvert_exporter": "python",
   "pygments_lexer": "ipython3",
   "version": "3.11.2"
  }
 },
 "nbformat": 4,
 "nbformat_minor": 5
}
