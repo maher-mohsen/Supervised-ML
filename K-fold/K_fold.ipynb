{
 "cells": [
  {
   "attachments": {},
   "cell_type": "markdown",
   "id": "a74b1e63",
   "metadata": {},
   "source": [
    "## Assignment points :\n",
    "    1. Load MINST dataset\n",
    "    2. Subset your data to use only class 0 and class1 for the next steps.\n",
    "    3. Standardize your dataset\n",
    "    4. Divide data into training and validation set using 10-fold cross validation method\n",
    "    5. Implement Logistic Regression with different values for learning rate\n",
    "    6. Report difference accuracy for the different learning rate"
   ]
  },
  {
   "attachments": {},
   "cell_type": "markdown",
   "id": "6d84d263",
   "metadata": {},
   "source": [
    "## 1. Load MINST dataset"
   ]
  },
  {
   "attachments": {},
   "cell_type": "markdown",
   "id": "da700e3e",
   "metadata": {},
   "source": [
    "### Import dependencies"
   ]
  },
  {
   "cell_type": "code",
   "execution_count": 5,
   "id": "9778a948",
   "metadata": {},
   "outputs": [],
   "source": [
    "from sklearn.datasets import load_digits\n",
    "import pandas as pd\n",
    "import matplotlib.pyplot as plt"
   ]
  },
  {
   "attachments": {},
   "cell_type": "markdown",
   "id": "42d6f910",
   "metadata": {},
   "source": [
    "### Load Dataset"
   ]
  },
  {
   "cell_type": "code",
   "execution_count": 6,
   "id": "b0f21703",
   "metadata": {},
   "outputs": [],
   "source": [
    "mnist = load_digits()\n",
    "df = pd.DataFrame(mnist.data)\n",
    "df['Target'] = pd.DataFrame(mnist.target)"
   ]
  },
  {
   "attachments": {},
   "cell_type": "markdown",
   "id": "4cb2b7a4",
   "metadata": {},
   "source": [
    "### Data explore"
   ]
  },
  {
   "attachments": {},
   "cell_type": "markdown",
   "id": "02f8c715",
   "metadata": {},
   "source": [
    "#### Frame explore"
   ]
  },
  {
   "cell_type": "code",
   "execution_count": 7,
   "id": "24638839",
   "metadata": {},
   "outputs": [
    {
     "data": {
      "text/html": [
       "<div>\n",
       "<style scoped>\n",
       "    .dataframe tbody tr th:only-of-type {\n",
       "        vertical-align: middle;\n",
       "    }\n",
       "\n",
       "    .dataframe tbody tr th {\n",
       "        vertical-align: top;\n",
       "    }\n",
       "\n",
       "    .dataframe thead th {\n",
       "        text-align: right;\n",
       "    }\n",
       "</style>\n",
       "<table border=\"1\" class=\"dataframe\">\n",
       "  <thead>\n",
       "    <tr style=\"text-align: right;\">\n",
       "      <th></th>\n",
       "      <th>0</th>\n",
       "      <th>1</th>\n",
       "      <th>2</th>\n",
       "      <th>3</th>\n",
       "      <th>4</th>\n",
       "      <th>5</th>\n",
       "      <th>6</th>\n",
       "      <th>7</th>\n",
       "      <th>8</th>\n",
       "      <th>9</th>\n",
       "      <th>...</th>\n",
       "      <th>55</th>\n",
       "      <th>56</th>\n",
       "      <th>57</th>\n",
       "      <th>58</th>\n",
       "      <th>59</th>\n",
       "      <th>60</th>\n",
       "      <th>61</th>\n",
       "      <th>62</th>\n",
       "      <th>63</th>\n",
       "      <th>Target</th>\n",
       "    </tr>\n",
       "  </thead>\n",
       "  <tbody>\n",
       "    <tr>\n",
       "      <th>0</th>\n",
       "      <td>0.0</td>\n",
       "      <td>0.0</td>\n",
       "      <td>5.0</td>\n",
       "      <td>13.0</td>\n",
       "      <td>9.0</td>\n",
       "      <td>1.0</td>\n",
       "      <td>0.0</td>\n",
       "      <td>0.0</td>\n",
       "      <td>0.0</td>\n",
       "      <td>0.0</td>\n",
       "      <td>...</td>\n",
       "      <td>0.0</td>\n",
       "      <td>0.0</td>\n",
       "      <td>0.0</td>\n",
       "      <td>6.0</td>\n",
       "      <td>13.0</td>\n",
       "      <td>10.0</td>\n",
       "      <td>0.0</td>\n",
       "      <td>0.0</td>\n",
       "      <td>0.0</td>\n",
       "      <td>0</td>\n",
       "    </tr>\n",
       "    <tr>\n",
       "      <th>1</th>\n",
       "      <td>0.0</td>\n",
       "      <td>0.0</td>\n",
       "      <td>0.0</td>\n",
       "      <td>12.0</td>\n",
       "      <td>13.0</td>\n",
       "      <td>5.0</td>\n",
       "      <td>0.0</td>\n",
       "      <td>0.0</td>\n",
       "      <td>0.0</td>\n",
       "      <td>0.0</td>\n",
       "      <td>...</td>\n",
       "      <td>0.0</td>\n",
       "      <td>0.0</td>\n",
       "      <td>0.0</td>\n",
       "      <td>0.0</td>\n",
       "      <td>11.0</td>\n",
       "      <td>16.0</td>\n",
       "      <td>10.0</td>\n",
       "      <td>0.0</td>\n",
       "      <td>0.0</td>\n",
       "      <td>1</td>\n",
       "    </tr>\n",
       "    <tr>\n",
       "      <th>2</th>\n",
       "      <td>0.0</td>\n",
       "      <td>0.0</td>\n",
       "      <td>0.0</td>\n",
       "      <td>4.0</td>\n",
       "      <td>15.0</td>\n",
       "      <td>12.0</td>\n",
       "      <td>0.0</td>\n",
       "      <td>0.0</td>\n",
       "      <td>0.0</td>\n",
       "      <td>0.0</td>\n",
       "      <td>...</td>\n",
       "      <td>0.0</td>\n",
       "      <td>0.0</td>\n",
       "      <td>0.0</td>\n",
       "      <td>0.0</td>\n",
       "      <td>3.0</td>\n",
       "      <td>11.0</td>\n",
       "      <td>16.0</td>\n",
       "      <td>9.0</td>\n",
       "      <td>0.0</td>\n",
       "      <td>2</td>\n",
       "    </tr>\n",
       "    <tr>\n",
       "      <th>3</th>\n",
       "      <td>0.0</td>\n",
       "      <td>0.0</td>\n",
       "      <td>7.0</td>\n",
       "      <td>15.0</td>\n",
       "      <td>13.0</td>\n",
       "      <td>1.0</td>\n",
       "      <td>0.0</td>\n",
       "      <td>0.0</td>\n",
       "      <td>0.0</td>\n",
       "      <td>8.0</td>\n",
       "      <td>...</td>\n",
       "      <td>0.0</td>\n",
       "      <td>0.0</td>\n",
       "      <td>0.0</td>\n",
       "      <td>7.0</td>\n",
       "      <td>13.0</td>\n",
       "      <td>13.0</td>\n",
       "      <td>9.0</td>\n",
       "      <td>0.0</td>\n",
       "      <td>0.0</td>\n",
       "      <td>3</td>\n",
       "    </tr>\n",
       "    <tr>\n",
       "      <th>4</th>\n",
       "      <td>0.0</td>\n",
       "      <td>0.0</td>\n",
       "      <td>0.0</td>\n",
       "      <td>1.0</td>\n",
       "      <td>11.0</td>\n",
       "      <td>0.0</td>\n",
       "      <td>0.0</td>\n",
       "      <td>0.0</td>\n",
       "      <td>0.0</td>\n",
       "      <td>0.0</td>\n",
       "      <td>...</td>\n",
       "      <td>0.0</td>\n",
       "      <td>0.0</td>\n",
       "      <td>0.0</td>\n",
       "      <td>0.0</td>\n",
       "      <td>2.0</td>\n",
       "      <td>16.0</td>\n",
       "      <td>4.0</td>\n",
       "      <td>0.0</td>\n",
       "      <td>0.0</td>\n",
       "      <td>4</td>\n",
       "    </tr>\n",
       "    <tr>\n",
       "      <th>...</th>\n",
       "      <td>...</td>\n",
       "      <td>...</td>\n",
       "      <td>...</td>\n",
       "      <td>...</td>\n",
       "      <td>...</td>\n",
       "      <td>...</td>\n",
       "      <td>...</td>\n",
       "      <td>...</td>\n",
       "      <td>...</td>\n",
       "      <td>...</td>\n",
       "      <td>...</td>\n",
       "      <td>...</td>\n",
       "      <td>...</td>\n",
       "      <td>...</td>\n",
       "      <td>...</td>\n",
       "      <td>...</td>\n",
       "      <td>...</td>\n",
       "      <td>...</td>\n",
       "      <td>...</td>\n",
       "      <td>...</td>\n",
       "      <td>...</td>\n",
       "    </tr>\n",
       "    <tr>\n",
       "      <th>1792</th>\n",
       "      <td>0.0</td>\n",
       "      <td>0.0</td>\n",
       "      <td>4.0</td>\n",
       "      <td>10.0</td>\n",
       "      <td>13.0</td>\n",
       "      <td>6.0</td>\n",
       "      <td>0.0</td>\n",
       "      <td>0.0</td>\n",
       "      <td>0.0</td>\n",
       "      <td>1.0</td>\n",
       "      <td>...</td>\n",
       "      <td>0.0</td>\n",
       "      <td>0.0</td>\n",
       "      <td>0.0</td>\n",
       "      <td>2.0</td>\n",
       "      <td>14.0</td>\n",
       "      <td>15.0</td>\n",
       "      <td>9.0</td>\n",
       "      <td>0.0</td>\n",
       "      <td>0.0</td>\n",
       "      <td>9</td>\n",
       "    </tr>\n",
       "    <tr>\n",
       "      <th>1793</th>\n",
       "      <td>0.0</td>\n",
       "      <td>0.0</td>\n",
       "      <td>6.0</td>\n",
       "      <td>16.0</td>\n",
       "      <td>13.0</td>\n",
       "      <td>11.0</td>\n",
       "      <td>1.0</td>\n",
       "      <td>0.0</td>\n",
       "      <td>0.0</td>\n",
       "      <td>0.0</td>\n",
       "      <td>...</td>\n",
       "      <td>0.0</td>\n",
       "      <td>0.0</td>\n",
       "      <td>0.0</td>\n",
       "      <td>6.0</td>\n",
       "      <td>16.0</td>\n",
       "      <td>14.0</td>\n",
       "      <td>6.0</td>\n",
       "      <td>0.0</td>\n",
       "      <td>0.0</td>\n",
       "      <td>0</td>\n",
       "    </tr>\n",
       "    <tr>\n",
       "      <th>1794</th>\n",
       "      <td>0.0</td>\n",
       "      <td>0.0</td>\n",
       "      <td>1.0</td>\n",
       "      <td>11.0</td>\n",
       "      <td>15.0</td>\n",
       "      <td>1.0</td>\n",
       "      <td>0.0</td>\n",
       "      <td>0.0</td>\n",
       "      <td>0.0</td>\n",
       "      <td>0.0</td>\n",
       "      <td>...</td>\n",
       "      <td>0.0</td>\n",
       "      <td>0.0</td>\n",
       "      <td>0.0</td>\n",
       "      <td>2.0</td>\n",
       "      <td>9.0</td>\n",
       "      <td>13.0</td>\n",
       "      <td>6.0</td>\n",
       "      <td>0.0</td>\n",
       "      <td>0.0</td>\n",
       "      <td>8</td>\n",
       "    </tr>\n",
       "    <tr>\n",
       "      <th>1795</th>\n",
       "      <td>0.0</td>\n",
       "      <td>0.0</td>\n",
       "      <td>2.0</td>\n",
       "      <td>10.0</td>\n",
       "      <td>7.0</td>\n",
       "      <td>0.0</td>\n",
       "      <td>0.0</td>\n",
       "      <td>0.0</td>\n",
       "      <td>0.0</td>\n",
       "      <td>0.0</td>\n",
       "      <td>...</td>\n",
       "      <td>0.0</td>\n",
       "      <td>0.0</td>\n",
       "      <td>0.0</td>\n",
       "      <td>5.0</td>\n",
       "      <td>12.0</td>\n",
       "      <td>16.0</td>\n",
       "      <td>12.0</td>\n",
       "      <td>0.0</td>\n",
       "      <td>0.0</td>\n",
       "      <td>9</td>\n",
       "    </tr>\n",
       "    <tr>\n",
       "      <th>1796</th>\n",
       "      <td>0.0</td>\n",
       "      <td>0.0</td>\n",
       "      <td>10.0</td>\n",
       "      <td>14.0</td>\n",
       "      <td>8.0</td>\n",
       "      <td>1.0</td>\n",
       "      <td>0.0</td>\n",
       "      <td>0.0</td>\n",
       "      <td>0.0</td>\n",
       "      <td>2.0</td>\n",
       "      <td>...</td>\n",
       "      <td>0.0</td>\n",
       "      <td>0.0</td>\n",
       "      <td>1.0</td>\n",
       "      <td>8.0</td>\n",
       "      <td>12.0</td>\n",
       "      <td>14.0</td>\n",
       "      <td>12.0</td>\n",
       "      <td>1.0</td>\n",
       "      <td>0.0</td>\n",
       "      <td>8</td>\n",
       "    </tr>\n",
       "  </tbody>\n",
       "</table>\n",
       "<p>1797 rows × 65 columns</p>\n",
       "</div>"
      ],
      "text/plain": [
       "        0    1     2     3     4     5    6    7    8    9  ...   55   56   \n",
       "0     0.0  0.0   5.0  13.0   9.0   1.0  0.0  0.0  0.0  0.0  ...  0.0  0.0  \\\n",
       "1     0.0  0.0   0.0  12.0  13.0   5.0  0.0  0.0  0.0  0.0  ...  0.0  0.0   \n",
       "2     0.0  0.0   0.0   4.0  15.0  12.0  0.0  0.0  0.0  0.0  ...  0.0  0.0   \n",
       "3     0.0  0.0   7.0  15.0  13.0   1.0  0.0  0.0  0.0  8.0  ...  0.0  0.0   \n",
       "4     0.0  0.0   0.0   1.0  11.0   0.0  0.0  0.0  0.0  0.0  ...  0.0  0.0   \n",
       "...   ...  ...   ...   ...   ...   ...  ...  ...  ...  ...  ...  ...  ...   \n",
       "1792  0.0  0.0   4.0  10.0  13.0   6.0  0.0  0.0  0.0  1.0  ...  0.0  0.0   \n",
       "1793  0.0  0.0   6.0  16.0  13.0  11.0  1.0  0.0  0.0  0.0  ...  0.0  0.0   \n",
       "1794  0.0  0.0   1.0  11.0  15.0   1.0  0.0  0.0  0.0  0.0  ...  0.0  0.0   \n",
       "1795  0.0  0.0   2.0  10.0   7.0   0.0  0.0  0.0  0.0  0.0  ...  0.0  0.0   \n",
       "1796  0.0  0.0  10.0  14.0   8.0   1.0  0.0  0.0  0.0  2.0  ...  0.0  0.0   \n",
       "\n",
       "       57   58    59    60    61   62   63  Target  \n",
       "0     0.0  6.0  13.0  10.0   0.0  0.0  0.0       0  \n",
       "1     0.0  0.0  11.0  16.0  10.0  0.0  0.0       1  \n",
       "2     0.0  0.0   3.0  11.0  16.0  9.0  0.0       2  \n",
       "3     0.0  7.0  13.0  13.0   9.0  0.0  0.0       3  \n",
       "4     0.0  0.0   2.0  16.0   4.0  0.0  0.0       4  \n",
       "...   ...  ...   ...   ...   ...  ...  ...     ...  \n",
       "1792  0.0  2.0  14.0  15.0   9.0  0.0  0.0       9  \n",
       "1793  0.0  6.0  16.0  14.0   6.0  0.0  0.0       0  \n",
       "1794  0.0  2.0   9.0  13.0   6.0  0.0  0.0       8  \n",
       "1795  0.0  5.0  12.0  16.0  12.0  0.0  0.0       9  \n",
       "1796  1.0  8.0  12.0  14.0  12.0  1.0  0.0       8  \n",
       "\n",
       "[1797 rows x 65 columns]"
      ]
     },
     "execution_count": 7,
     "metadata": {},
     "output_type": "execute_result"
    }
   ],
   "source": [
    "df"
   ]
  },
  {
   "attachments": {},
   "cell_type": "markdown",
   "id": "b65a22d4",
   "metadata": {},
   "source": [
    "#### Visualize digits"
   ]
  },
  {
   "cell_type": "code",
   "execution_count": 8,
   "id": "df7da3dd",
   "metadata": {},
   "outputs": [
    {
     "data": {
      "image/png": "[encoded data removed]",
      "text/plain": [
       "<Figure size 1600x600 with 20 Axes>"
      ]
     },
     "metadata": {},
     "output_type": "display_data"
    }
   ],
   "source": [
    "fig, axes = plt.subplots(2, 10, figsize=(16, 6))\n",
    "for i in range(20):\n",
    "    axes[i//10, i %10].imshow(mnist.images[i], cmap='gray');\n",
    "    axes[i//10, i %10].axis('off')\n",
    "    axes[i//10, i %10].set_title(f\"target: {mnist.target[i]}\")\n",
    "    \n",
    "plt.tight_layout()"
   ]
  },
  {
   "attachments": {},
   "cell_type": "markdown",
   "id": "3ed669f5",
   "metadata": {},
   "source": [
    "## 2. Subset your data to use only class 0 and class1 for the next steps."
   ]
  },
  {
   "cell_type": "code",
   "execution_count": 9,
   "id": "36826e9f",
   "metadata": {},
   "outputs": [
    {
     "name": "stdout",
     "output_type": "stream",
     "text": [
      "<class 'pandas.core.frame.DataFrame'>\n",
      "Index: 360 entries, 0 to 1793\n",
      "Data columns (total 65 columns):\n",
      " #   Column  Non-Null Count  Dtype  \n",
      "---  ------  --------------  -----  \n",
      " 0   0       360 non-null    float64\n",
      " 1   1       360 non-null    float64\n",
      " 2   2       360 non-null    float64\n",
      " 3   3       360 non-null    float64\n",
      " 4   4       360 non-null    float64\n",
      " 5   5       360 non-null    float64\n",
      " 6   6       360 non-null    float64\n",
      " 7   7       360 non-null    float64\n",
      " 8   8       360 non-null    float64\n",
      " 9   9       360 non-null    float64\n",
      " 10  10      360 non-null    float64\n",
      " 11  11      360 non-null    float64\n",
      " 12  12      360 non-null    float64\n",
      " 13  13      360 non-null    float64\n",
      " 14  14      360 non-null    float64\n",
      " 15  15      360 non-null    float64\n",
      " 16  16      360 non-null    float64\n",
      " 17  17      360 non-null    float64\n",
      " 18  18      360 non-null    float64\n",
      " 19  19      360 non-null    float64\n",
      " 20  20      360 non-null    float64\n",
      " 21  21      360 non-null    float64\n",
      " 22  22      360 non-null    float64\n",
      " 23  23      360 non-null    float64\n",
      " 24  24      360 non-null    float64\n",
      " 25  25      360 non-null    float64\n",
      " 26  26      360 non-null    float64\n",
      " 27  27      360 non-null    float64\n",
      " 28  28      360 non-null    float64\n",
      " 29  29      360 non-null    float64\n",
      " 30  30      360 non-null    float64\n",
      " 31  31      360 non-null    float64\n",
      " 32  32      360 non-null    float64\n",
      " 33  33      360 non-null    float64\n",
      " 34  34      360 non-null    float64\n",
      " 35  35      360 non-null    float64\n",
      " 36  36      360 non-null    float64\n",
      " 37  37      360 non-null    float64\n",
      " 38  38      360 non-null    float64\n",
      " 39  39      360 non-null    float64\n",
      " 40  40      360 non-null    float64\n",
      " 41  41      360 non-null    float64\n",
      " 42  42      360 non-null    float64\n",
      " 43  43      360 non-null    float64\n",
      " 44  44      360 non-null    float64\n",
      " 45  45      360 non-null    float64\n",
      " 46  46      360 non-null    float64\n",
      " 47  47      360 non-null    float64\n",
      " 48  48      360 non-null    float64\n",
      " 49  49      360 non-null    float64\n",
      " 50  50      360 non-null    float64\n",
      " 51  51      360 non-null    float64\n",
      " 52  52      360 non-null    float64\n",
      " 53  53      360 non-null    float64\n",
      " 54  54      360 non-null    float64\n",
      " 55  55      360 non-null    float64\n",
      " 56  56      360 non-null    float64\n",
      " 57  57      360 non-null    float64\n",
      " 58  58      360 non-null    float64\n",
      " 59  59      360 non-null    float64\n",
      " 60  60      360 non-null    float64\n",
      " 61  61      360 non-null    float64\n",
      " 62  62      360 non-null    float64\n",
      " 63  63      360 non-null    float64\n",
      " 64  Target  360 non-null    int32  \n",
      "dtypes: float64(64), int32(1)\n",
      "memory usage: 184.2 KB\n"
     ]
    }
   ],
   "source": [
    "df_0_1 = df[(df['Target']==0) | (df['Target']==1)]\n",
    "df_0_1.info()"
   ]
  },
  {
   "attachments": {},
   "cell_type": "markdown",
   "id": "5fcaad71",
   "metadata": {},
   "source": [
    "## 3. Standardize your dataset"
   ]
  },
  {
   "attachments": {},
   "cell_type": "markdown",
   "id": "efb90117",
   "metadata": {},
   "source": [
    "### Import dependencies"
   ]
  },
  {
   "cell_type": "code",
   "execution_count": 10,
   "id": "dc805e01",
   "metadata": {},
   "outputs": [],
   "source": [
    "import numpy as np"
   ]
  },
  {
   "attachments": {},
   "cell_type": "markdown",
   "id": "6927bca9",
   "metadata": {},
   "source": [
    "### Standradize function "
   ]
  },
  {
   "cell_type": "code",
   "execution_count": 11,
   "id": "84a43850",
   "metadata": {},
   "outputs": [],
   "source": [
    "def standradize(data):\n",
    "    mean = np.mean(data)\n",
    "    std = np.std(data)\n",
    "    standardized_data = (data - mean) / std\n",
    "    return standardized_data"
   ]
  },
  {
   "attachments": {},
   "cell_type": "markdown",
   "id": "e4da09e1",
   "metadata": {},
   "source": [
    "## 4. Divide data into training and validation set using 10-fold cross validation method"
   ]
  },
  {
   "attachments": {},
   "cell_type": "markdown",
   "id": "0583068a",
   "metadata": {},
   "source": [
    "### Import dependencies"
   ]
  },
  {
   "cell_type": "code",
   "execution_count": 12,
   "id": "5eca23bf",
   "metadata": {},
   "outputs": [],
   "source": [
    "from sklearn.utils import shuffle"
   ]
  },
  {
   "attachments": {},
   "cell_type": "markdown",
   "id": "c9ca0593",
   "metadata": {},
   "source": [
    "#### Shuffle"
   ]
  },
  {
   "cell_type": "code",
   "execution_count": 13,
   "id": "6d2081f4",
   "metadata": {},
   "outputs": [],
   "source": [
    "dataset = shuffle(df_0_1)"
   ]
  },
  {
   "attachments": {},
   "cell_type": "markdown",
   "id": "d0076b19",
   "metadata": {},
   "source": [
    "#### K-Fold cross validation implementaion"
   ]
  },
  {
   "cell_type": "code",
   "execution_count": 14,
   "id": "19d06ae0",
   "metadata": {},
   "outputs": [],
   "source": [
    "def sigmoid(z):\n",
    "    return 1 / (1 + np.exp(-z))"
   ]
  },
  {
   "cell_type": "code",
   "execution_count": 15,
   "id": "549be525",
   "metadata": {},
   "outputs": [],
   "source": [
    "def accuracy(y, y_hat):\n",
    "    true=0\n",
    "    for i in range(len(y)) :\n",
    "        if y[i] == y_hat[i]:\n",
    "            true+=1\n",
    "    return (true / len(y)) * 100"
   ]
  },
  {
   "cell_type": "code",
   "execution_count": 16,
   "id": "afa142de",
   "metadata": {},
   "outputs": [],
   "source": [
    "def kFold_cross_validation(X, y, k, eta, epochs):\n",
    "    n = len(X)\n",
    "    \n",
    "    fold_size = n // k\n",
    "    loss = []\n",
    "    \n",
    "    for i in range(k):\n",
    "        start, end = i * fold_size, (i + 1) * fold_size\n",
    "        \n",
    "        X_test, y_test = X[start:end], y[start:end]\n",
    "        X_train = np.concatenate((X[:start], X[end:]), axis=0)\n",
    "        y_train = np.concatenate((y[:start], y[end:]), axis=0)\n",
    "        clf = Logistic(eta, epochs)\n",
    "        clf.fit(X_train, y_train, eta, epochs)\n",
    "        \n",
    "        y_hat = clf.predict(X_test)\n",
    "        m = len(y_hat)\n",
    "        w, b = clf.get_weights()\n",
    "        y_pred_proba = sigmoid(X_test @ w.T + b)\n",
    "        log_loss = -np.mean(y_test * np.log(y_pred_proba) + (1 - y_test) * np.log(1 - y_pred_proba))\n",
    "        loss.append(log_loss)\n",
    "        print(\"Loss of Group : \", i+1, \"is : \",  log_loss, \"With eta : \", eta)\n",
    "        print(\"Accuracy of Group : \", i+1, \"is : \", accuracy(y_test, y_hat.astype(int)))\n",
    "        print(\"--------------------------------------------------------------\")\n",
    "       \n",
    "    return loss\n",
    "        \n",
    "    "
   ]
  },
  {
   "attachments": {},
   "cell_type": "markdown",
   "id": "9bfe3aa9",
   "metadata": {},
   "source": [
    "## 5. Implement Logistic Regression with different values for learning rate"
   ]
  },
  {
   "attachments": {},
   "cell_type": "markdown",
   "id": "dc3b311c",
   "metadata": {},
   "source": [
    "### Import dependencies"
   ]
  },
  {
   "cell_type": "code",
   "execution_count": 17,
   "id": "c0d6fa5e",
   "metadata": {},
   "outputs": [],
   "source": [
    "import numpy as np"
   ]
  },
  {
   "attachments": {},
   "cell_type": "markdown",
   "id": "f72eb451",
   "metadata": {},
   "source": [
    "### Implement Logistic Regression"
   ]
  },
  {
   "cell_type": "code",
   "execution_count": 18,
   "id": "ac74217d",
   "metadata": {},
   "outputs": [],
   "source": [
    "class Logistic:\n",
    "    def __init__(self, eta=0.0008, epochs=100):\n",
    "        self.w = None\n",
    "        self.b = None\n",
    "        self.eta = None\n",
    "        self.epochs = None\n",
    "\n",
    "    def unit_step(self, z):\n",
    "        for i in range(len(z)):\n",
    "            if z[i] >0.5:\n",
    "                z[i] = 1\n",
    "            else:\n",
    "                z[i]=0\n",
    "        return z\n",
    "    \n",
    "    def cost(self,y_hat,y):\n",
    "        m = len(y)\n",
    "        return -np.mean(-y * np.log(y_hat) - ((1-y) * np.log(1-y_hat)))\n",
    "    \n",
    "    def get_net_input(self, X, y):\n",
    "        return (np.dot(X, self.w)) + self.b\n",
    "    \n",
    "    def update_weight(self, y_pred, y, X):\n",
    "        return self.w - ((self.eta * np.dot((y_pred - y),X)) / len(X))\n",
    "    \n",
    "    def update_bias(self, y_pred, y):\n",
    "        return self.b - (self.eta * np.mean((y_pred - y)))\n",
    "    \n",
    "    def activation(self, z):\n",
    "        return 1 / (1 + np.exp(-z))\n",
    "    \n",
    "    def fit(self, X, y, eta, epochs):\n",
    "        m = len(X)\n",
    "        self.w = np.random.uniform(low=-0.01, high=0.01, size=X.shape[1])\n",
    "        self.b = np.random.uniform(low=-0.01, high=0.01, size=1)\n",
    "\n",
    "        self.eta = eta\n",
    "        self.epochs = epochs\n",
    "        for epoch in range(epochs):\n",
    "            #Get net input\n",
    "            z = self.get_net_input(X, y)\n",
    "            \n",
    "            #apply activation function\n",
    "            z = self.activation(z)\n",
    "            \n",
    "            #Calc error\n",
    "            y_pred = z.copy()\n",
    "            error = self.cost(y_pred, y)\n",
    "            #Update Weight and bias\n",
    "            self.w = self.update_weight(y_pred, y, X)\n",
    "            self.b = self.update_bias(y_pred, y)\n",
    "            \n",
    "            if error == 0:\n",
    "                break\n",
    "                \n",
    "    def predict(self, X):\n",
    "        return self.unit_step((np.dot(self.w, X.T)) + self.b)\n",
    "    \n",
    "    def get_weights(self):\n",
    "        return [self.w, self.b]\n",
    "    "
   ]
  },
  {
   "attachments": {},
   "cell_type": "markdown",
   "id": "79c3e4f1",
   "metadata": {},
   "source": [
    "## 6. Report difference accuracy for the different learning rate"
   ]
  },
  {
   "cell_type": "code",
   "execution_count": 19,
   "id": "73dfa9b1",
   "metadata": {},
   "outputs": [],
   "source": [
    "X = dataset.drop(columns = ['Target'])\n",
    "y = dataset['Target']"
   ]
  },
  {
   "cell_type": "code",
   "execution_count": 20,
   "id": "5121ed1b",
   "metadata": {},
   "outputs": [],
   "source": [
    "X = X.to_numpy()\n",
    "y = y.to_numpy()"
   ]
  },
  {
   "cell_type": "code",
   "execution_count": 30,
   "id": "b074ef0d",
   "metadata": {},
   "outputs": [
    {
     "name": "stdout",
     "output_type": "stream",
     "text": [
      "Loss of Group :  1 is :  0.00044565707885151534 With eta :  0.01\n",
      "Accuracy of Group :  1 is :  100.0\n",
      "--------------------------------------------------------------\n",
      "Loss of Group :  2 is :  0.004256960592164251 With eta :  0.01\n",
      "Accuracy of Group :  2 is :  100.0\n",
      "--------------------------------------------------------------\n",
      "Loss of Group :  3 is :  7.511877437764607e-05 With eta :  0.01\n",
      "Accuracy of Group :  3 is :  100.0\n",
      "--------------------------------------------------------------\n",
      "Loss of Group :  4 is :  0.0009519922692126432 With eta :  0.01\n",
      "Accuracy of Group :  4 is :  100.0\n",
      "--------------------------------------------------------------\n",
      "Loss of Group :  5 is :  0.00027222051852917304 With eta :  0.01\n",
      "Accuracy of Group :  5 is :  100.0\n",
      "--------------------------------------------------------------\n",
      "Loss of Group :  6 is :  0.0002924756248340489 With eta :  0.01\n",
      "Accuracy of Group :  6 is :  100.0\n",
      "--------------------------------------------------------------\n",
      "Loss of Group :  7 is :  0.0006962175569489705 With eta :  0.01\n",
      "Accuracy of Group :  7 is :  100.0\n",
      "--------------------------------------------------------------\n",
      "Loss of Group :  8 is :  0.0022466452768063884 With eta :  0.01\n",
      "Accuracy of Group :  8 is :  100.0\n",
      "--------------------------------------------------------------\n",
      "Loss of Group :  9 is :  0.00858259725587137 With eta :  0.01\n",
      "Accuracy of Group :  9 is :  100.0\n",
      "--------------------------------------------------------------\n",
      "Loss of Group :  10 is :  0.00012382205157525507 With eta :  0.01\n",
      "Accuracy of Group :  10 is :  100.0\n",
      "--------------------------------------------------------------\n"
     ]
    }
   ],
   "source": [
    "loss =kFold_cross_validation(X, y, 10, 0.01, 1000)"
   ]
  },
  {
   "cell_type": "code",
   "execution_count": 31,
   "id": "19467a68",
   "metadata": {},
   "outputs": [
    {
     "name": "stdout",
     "output_type": "stream",
     "text": [
      "Loss of Group :  1 is :  0.0044730406881254145 With eta :  0.001\n",
      "Accuracy of Group :  1 is :  100.0\n",
      "--------------------------------------------------------------\n",
      "Loss of Group :  2 is :  0.016283733077124423 With eta :  0.001\n",
      "Accuracy of Group :  2 is :  100.0\n",
      "--------------------------------------------------------------\n",
      "Loss of Group :  3 is :  0.0013579377407709299 With eta :  0.001\n",
      "Accuracy of Group :  3 is :  100.0\n",
      "--------------------------------------------------------------\n",
      "Loss of Group :  4 is :  0.00546523281297337 With eta :  0.001\n",
      "Accuracy of Group :  4 is :  100.0\n",
      "--------------------------------------------------------------\n",
      "Loss of Group :  5 is :  0.003163811738111758 With eta :  0.001\n",
      "Accuracy of Group :  5 is :  100.0\n",
      "--------------------------------------------------------------\n",
      "Loss of Group :  6 is :  0.0038859759202240756 With eta :  0.001\n",
      "Accuracy of Group :  6 is :  100.0\n",
      "--------------------------------------------------------------\n",
      "Loss of Group :  7 is :  0.005351118454871361 With eta :  0.001\n",
      "Accuracy of Group :  7 is :  100.0\n",
      "--------------------------------------------------------------\n",
      "Loss of Group :  8 is :  0.010456877756678445 With eta :  0.001\n",
      "Accuracy of Group :  8 is :  100.0\n",
      "--------------------------------------------------------------\n",
      "Loss of Group :  9 is :  0.025154287410297498 With eta :  0.001\n",
      "Accuracy of Group :  9 is :  100.0\n",
      "--------------------------------------------------------------\n",
      "Loss of Group :  10 is :  0.002246676827167882 With eta :  0.001\n",
      "Accuracy of Group :  10 is :  100.0\n",
      "--------------------------------------------------------------\n"
     ]
    }
   ],
   "source": [
    "loss =kFold_cross_validation(X, y, 10, 0.001, 1000)"
   ]
  },
  {
   "cell_type": "code",
   "execution_count": 32,
   "id": "a962d1a5",
   "metadata": {},
   "outputs": [
    {
     "name": "stdout",
     "output_type": "stream",
     "text": [
      "Loss of Group :  1 is :  0.03754240122021958 With eta :  0.0001\n",
      "Accuracy of Group :  1 is :  100.0\n",
      "--------------------------------------------------------------\n",
      "Loss of Group :  2 is :  0.05985419332722756 With eta :  0.0001\n",
      "Accuracy of Group :  2 is :  97.22222222222221\n",
      "--------------------------------------------------------------\n",
      "Loss of Group :  3 is :  0.02118901290362748 With eta :  0.0001\n",
      "Accuracy of Group :  3 is :  100.0\n",
      "--------------------------------------------------------------\n",
      "Loss of Group :  4 is :  0.038349060426393834 With eta :  0.0001\n",
      "Accuracy of Group :  4 is :  100.0\n",
      "--------------------------------------------------------------\n",
      "Loss of Group :  5 is :  0.030877378866537315 With eta :  0.0001\n",
      "Accuracy of Group :  5 is :  100.0\n",
      "--------------------------------------------------------------\n",
      "Loss of Group :  6 is :  0.033826380763331214 With eta :  0.0001\n",
      "Accuracy of Group :  6 is :  100.0\n",
      "--------------------------------------------------------------\n",
      "Loss of Group :  7 is :  0.03563908743972187 With eta :  0.0001\n",
      "Accuracy of Group :  7 is :  100.0\n",
      "--------------------------------------------------------------\n",
      "Loss of Group :  8 is :  0.04656431622412734 With eta :  0.0001\n",
      "Accuracy of Group :  8 is :  100.0\n",
      "--------------------------------------------------------------\n",
      "Loss of Group :  9 is :  0.08361064238813953 With eta :  0.0001\n",
      "Accuracy of Group :  9 is :  94.44444444444444\n",
      "--------------------------------------------------------------\n",
      "Loss of Group :  10 is :  0.02521058867371187 With eta :  0.0001\n",
      "Accuracy of Group :  10 is :  100.0\n",
      "--------------------------------------------------------------\n"
     ]
    }
   ],
   "source": [
    "loss =kFold_cross_validation(X, y, 10, 0.0001, 1000)"
   ]
  },
  {
   "cell_type": "code",
   "execution_count": 33,
   "id": "6a687e28",
   "metadata": {},
   "outputs": [
    {
     "name": "stdout",
     "output_type": "stream",
     "text": [
      "Loss of Group :  1 is :  0.002430379016910697 With eta :  0.002\n",
      "Accuracy of Group :  1 is :  100.0\n",
      "--------------------------------------------------------------\n",
      "Loss of Group :  2 is :  0.010386354775022592 With eta :  0.002\n",
      "Accuracy of Group :  2 is :  100.0\n",
      "--------------------------------------------------------------\n",
      "Loss of Group :  3 is :  0.0005592447431854152 With eta :  0.002\n",
      "Accuracy of Group :  3 is :  100.0\n",
      "--------------------------------------------------------------\n",
      "Loss of Group :  4 is :  0.003160005545298341 With eta :  0.002\n",
      "Accuracy of Group :  4 is :  100.0\n",
      "--------------------------------------------------------------\n",
      "Loss of Group :  5 is :  0.0015912772160447677 With eta :  0.002\n",
      "Accuracy of Group :  5 is :  100.0\n",
      "--------------------------------------------------------------\n",
      "Loss of Group :  6 is :  0.0018833143897669226 With eta :  0.002\n",
      "Accuracy of Group :  6 is :  100.0\n",
      "--------------------------------------------------------------\n",
      "Loss of Group :  7 is :  0.0028953038759238943 With eta :  0.002\n",
      "Accuracy of Group :  7 is :  100.0\n",
      "--------------------------------------------------------------\n",
      "Loss of Group :  8 is :  0.006858178984795862 With eta :  0.002\n",
      "Accuracy of Group :  8 is :  100.0\n",
      "--------------------------------------------------------------\n",
      "Loss of Group :  9 is :  0.018356686488581204 With eta :  0.002\n",
      "Accuracy of Group :  9 is :  100.0\n",
      "--------------------------------------------------------------\n",
      "Loss of Group :  10 is :  0.001010199928937504 With eta :  0.002\n",
      "Accuracy of Group :  10 is :  100.0\n",
      "--------------------------------------------------------------\n"
     ]
    }
   ],
   "source": [
    "loss =kFold_cross_validation(X, y, 10, 0.002, 1000)"
   ]
  },
  {
   "cell_type": "code",
   "execution_count": 34,
   "id": "ba19f4cb",
   "metadata": {},
   "outputs": [
    {
     "name": "stdout",
     "output_type": "stream",
     "text": [
      "Loss of Group :  1 is :  0.005348466512982595 With eta :  0.0008\n",
      "Accuracy of Group :  1 is :  100.0\n",
      "--------------------------------------------------------------\n",
      "Loss of Group :  2 is :  0.017848100517187934 With eta :  0.0008\n",
      "Accuracy of Group :  2 is :  100.0\n",
      "--------------------------------------------------------------\n",
      "Loss of Group :  3 is :  0.0017571088101966327 With eta :  0.0008\n",
      "Accuracy of Group :  3 is :  100.0\n",
      "--------------------------------------------------------------\n",
      "Loss of Group :  4 is :  0.006794077754227186 With eta :  0.0008\n",
      "Accuracy of Group :  4 is :  100.0\n",
      "--------------------------------------------------------------\n",
      "Loss of Group :  5 is :  0.0040323114661402135 With eta :  0.0008\n",
      "Accuracy of Group :  5 is :  100.0\n",
      "--------------------------------------------------------------\n",
      "Loss of Group :  6 is :  0.004980793906444906 With eta :  0.0008\n",
      "Accuracy of Group :  6 is :  100.0\n",
      "--------------------------------------------------------------\n",
      "Loss of Group :  7 is :  0.006461812787789478 With eta :  0.0008\n",
      "Accuracy of Group :  7 is :  100.0\n",
      "--------------------------------------------------------------\n",
      "Loss of Group :  8 is :  0.01165229981510062 With eta :  0.0008\n",
      "Accuracy of Group :  8 is :  100.0\n",
      "--------------------------------------------------------------\n",
      "Loss of Group :  9 is :  0.03147277226960262 With eta :  0.0008\n",
      "Accuracy of Group :  9 is :  100.0\n",
      "--------------------------------------------------------------\n",
      "Loss of Group :  10 is :  0.0028819420790263 With eta :  0.0008\n",
      "Accuracy of Group :  10 is :  100.0\n",
      "--------------------------------------------------------------\n"
     ]
    }
   ],
   "source": [
    "loss =kFold_cross_validation(X, y, 10, 0.0008, 1000)"
   ]
  },
  {
   "cell_type": "code",
   "execution_count": 35,
   "id": "0729f6c2",
   "metadata": {},
   "outputs": [
    {
     "name": "stdout",
     "output_type": "stream",
     "text": [
      "Loss of Group :  1 is :  0.02015855632133111 With eta :  0.0002\n",
      "Accuracy of Group :  1 is :  100.0\n",
      "--------------------------------------------------------------\n",
      "Loss of Group :  2 is :  0.03975564154283552 With eta :  0.0002\n",
      "Accuracy of Group :  2 is :  100.0\n",
      "--------------------------------------------------------------\n",
      "Loss of Group :  3 is :  0.009680686719617347 With eta :  0.0002\n",
      "Accuracy of Group :  3 is :  100.0\n",
      "--------------------------------------------------------------\n",
      "Loss of Group :  4 is :  0.02058477770854485 With eta :  0.0002\n",
      "Accuracy of Group :  4 is :  100.0\n",
      "--------------------------------------------------------------\n",
      "Loss of Group :  5 is :  0.01538874011341559 With eta :  0.0002\n",
      "Accuracy of Group :  5 is :  100.0\n",
      "--------------------------------------------------------------\n",
      "Loss of Group :  6 is :  0.018943914046114438 With eta :  0.0002\n",
      "Accuracy of Group :  6 is :  100.0\n",
      "--------------------------------------------------------------\n",
      "Loss of Group :  7 is :  0.019155829715877145 With eta :  0.0002\n",
      "Accuracy of Group :  7 is :  100.0\n",
      "--------------------------------------------------------------\n",
      "Loss of Group :  8 is :  0.029062857348374223 With eta :  0.0002\n",
      "Accuracy of Group :  8 is :  100.0\n",
      "--------------------------------------------------------------\n",
      "Loss of Group :  9 is :  0.05861717383178385 With eta :  0.0002\n",
      "Accuracy of Group :  9 is :  100.0\n",
      "--------------------------------------------------------------\n",
      "Loss of Group :  10 is :  0.012558865692363065 With eta :  0.0002\n",
      "Accuracy of Group :  10 is :  100.0\n",
      "--------------------------------------------------------------\n"
     ]
    }
   ],
   "source": [
    "loss =kFold_cross_validation(X, y, 10, 0.0002, 1000)"
   ]
  },
  {
   "cell_type": "code",
   "execution_count": 36,
   "id": "9137e797",
   "metadata": {},
   "outputs": [
    {
     "name": "stdout",
     "output_type": "stream",
     "text": [
      "Loss of Group :  1 is :  0.0015115052247818039 With eta :  0.003\n",
      "Accuracy of Group :  1 is :  100.0\n",
      "--------------------------------------------------------------\n",
      "Loss of Group :  2 is :  0.00802887002790505 With eta :  0.003\n",
      "Accuracy of Group :  2 is :  100.0\n",
      "--------------------------------------------------------------\n",
      "Loss of Group :  3 is :  0.0003361771514123013 With eta :  0.003\n",
      "Accuracy of Group :  3 is :  100.0\n",
      "--------------------------------------------------------------\n",
      "Loss of Group :  4 is :  0.002404155577990575 With eta :  0.003\n",
      "Accuracy of Group :  4 is :  100.0\n",
      "--------------------------------------------------------------\n",
      "Loss of Group :  5 is :  0.0010105655413018542 With eta :  0.003\n",
      "Accuracy of Group :  5 is :  100.0\n",
      "--------------------------------------------------------------\n",
      "Loss of Group :  6 is :  0.0012826285522757712 With eta :  0.003\n",
      "Accuracy of Group :  6 is :  100.0\n",
      "--------------------------------------------------------------\n",
      "Loss of Group :  7 is :  0.0020705267268869153 With eta :  0.003\n",
      "Accuracy of Group :  7 is :  100.0\n",
      "--------------------------------------------------------------\n",
      "Loss of Group :  8 is :  0.00473180327610307 With eta :  0.003\n",
      "Accuracy of Group :  8 is :  100.0\n",
      "--------------------------------------------------------------\n",
      "Loss of Group :  9 is :  0.016018749655591472 With eta :  0.003\n",
      "Accuracy of Group :  9 is :  100.0\n",
      "--------------------------------------------------------------\n",
      "Loss of Group :  10 is :  0.0006153986374953761 With eta :  0.003\n",
      "Accuracy of Group :  10 is :  100.0\n",
      "--------------------------------------------------------------\n"
     ]
    }
   ],
   "source": [
    "loss =kFold_cross_validation(X, y, 10, 0.003, 1000)"
   ]
  },
  {
   "cell_type": "code",
   "execution_count": null,
   "id": "15add1d0",
   "metadata": {},
   "outputs": [],
   "source": []
  }
 ],
 "metadata": {
  "kernelspec": {
   "display_name": "Python 3 (ipykernel)",
   "language": "python",
   "name": "python3"
  },
  "language_info": {
   "codemirror_mode": {
    "name": "ipython",
    "version": 3
   },
   "file_extension": ".py",
   "mimetype": "text/x-python",
   "name": "python",
   "nbconvert_exporter": "python",
   "pygments_lexer": "ipython3",
   "version": "3.9.0"
  }
 },
 "nbformat": 4,
 "nbformat_minor": 5
}
